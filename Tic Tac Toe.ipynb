{
 "cells": [
  {
   "cell_type": "markdown",
   "id": "9002a2e3-a606-4c70-a3ae-c86e477f69ad",
   "metadata": {},
   "source": [
    "# Tic-Tac-Toe\n",
    "## Lest Start"
   ]
  },
  {
   "cell_type": "code",
   "execution_count": 4,
   "id": "56cec1d8-e816-4acd-9830-153b11916cf9",
   "metadata": {},
   "outputs": [],
   "source": [
    "from IPython.display import clear_output\n",
    "\n",
    "def display_board(board):\n",
    "    clear_output()\n",
    "    print('   |   |')\n",
    "    print(' '+board[7]+' | '+board[8]+' | '+board[9])\n",
    "    print('   |   |')\n",
    "    print('-----------')\n",
    "    print('   |   |')\n",
    "    print(' '+board[4]+' | '+board[5]+' | '+board[6])\n",
    "    print('   |   |')\n",
    "    print('-----------')\n",
    "    print('   |   |')\n",
    "    print(' '+board[1]+' | '+board[2]+' | '+board[3])\n",
    "    print('   |   |')"
   ]
  },
  {
   "cell_type": "code",
   "execution_count": 6,
   "id": "8ff93168-0c88-4c1c-8cf2-6972edd96335",
   "metadata": {},
   "outputs": [
    {
     "name": "stdout",
     "output_type": "stream",
     "text": [
      "   |   |\n",
      " X | O | X\n",
      "   |   |\n",
      "-----------\n",
      "   |   |\n",
      " O | X | O\n",
      "   |   |\n",
      "-----------\n",
      "   |   |\n",
      " X | O | X\n",
      "   |   |\n"
     ]
    }
   ],
   "source": [
    "testboard=['#','X','O','X','O','X','O','X','O','X']\n",
    "display_board(testboard)"
   ]
  },
  {
   "cell_type": "code",
   "execution_count": 8,
   "id": "05f74cc8",
   "metadata": {},
   "outputs": [],
   "source": [
    "def player_input():\n",
    "    marker = \"\"\n",
    "\n",
    "    while marker != 'X' and marker !='O':\n",
    "        marker = input(\"Player 1 choose the X or O\").upper()\n",
    "    if marker == \"X\":\n",
    "        return(\"X\",\"O\")\n",
    "    else:\n",
    "        return(\"O\",\"X\")"
   ]
  },
  {
   "cell_type": "code",
   "execution_count": 10,
   "id": "1298121d-af70-4aca-a907-0ae808438982",
   "metadata": {},
   "outputs": [
    {
     "name": "stdin",
     "output_type": "stream",
     "text": [
      "Player 1 choose the X or O X\n"
     ]
    },
    {
     "data": {
      "text/plain": [
       "('X', 'O')"
      ]
     },
     "execution_count": 10,
     "metadata": {},
     "output_type": "execute_result"
    }
   ],
   "source": [
    "player_input()"
   ]
  },
  {
   "cell_type": "code",
   "execution_count": 12,
   "id": "1078d2ea",
   "metadata": {},
   "outputs": [],
   "source": [
    "def place_marker(board,marker,position):\n",
    "    board[position] = marker"
   ]
  },
  {
   "cell_type": "code",
   "execution_count": 14,
   "id": "bee557dc-7f86-4988-a868-9274627451d5",
   "metadata": {},
   "outputs": [
    {
     "name": "stdout",
     "output_type": "stream",
     "text": [
      "   |   |\n",
      " X | # | X\n",
      "   |   |\n",
      "-----------\n",
      "   |   |\n",
      " O | X | O\n",
      "   |   |\n",
      "-----------\n",
      "   |   |\n",
      " X | O | X\n",
      "   |   |\n"
     ]
    }
   ],
   "source": [
    "place_marker(testboard,'#',8)\n",
    "display_board(testboard)"
   ]
  },
  {
   "cell_type": "code",
   "execution_count": 16,
   "id": "a43cb985-bb6b-4795-9565-93dcea3af6d0",
   "metadata": {},
   "outputs": [],
   "source": [
    "def win_check(board,mark):\n",
    "    \n",
    "    return ((board[7] == mark and board[8] == mark and board[9] == mark) or # across the top\n",
    "    (board[4] == mark and board[5] == mark and board[6] == mark) or # across the middle\n",
    "    (board[1] == mark and board[2] == mark and board[3] == mark) or # across the bottom\n",
    "    (board[7] == mark and board[4] == mark and board[1] == mark) or # down the middle\n",
    "    (board[8] == mark and board[5] == mark and board[2] == mark) or # down the middle\n",
    "    (board[9] == mark and board[6] == mark and board[3] == mark) or # down the right side\n",
    "    (board[7] == mark and board[5] == mark and board[3] == mark) or # diagonal\n",
    "    (board[9] == mark and board[5] == mark and board[1] == mark)) # diagonal"
   ]
  },
  {
   "cell_type": "code",
   "execution_count": 18,
   "id": "10c9db17-b728-4e3a-855f-aafb3774d783",
   "metadata": {},
   "outputs": [
    {
     "data": {
      "text/plain": [
       "True"
      ]
     },
     "execution_count": 18,
     "metadata": {},
     "output_type": "execute_result"
    }
   ],
   "source": [
    "win_check(testboard,'X')"
   ]
  },
  {
   "cell_type": "code",
   "execution_count": 20,
   "id": "83d9911e-5131-438b-8501-cdae443720c3",
   "metadata": {},
   "outputs": [],
   "source": [
    "import random\n",
    "def choose_player():\n",
    "    flip=random.randint(0,1)\n",
    "    if flip == 0:\n",
    "        return 'Player 1'\n",
    "    else:\n",
    "        return 'Player 2'"
   ]
  },
  {
   "cell_type": "code",
   "execution_count": 22,
   "id": "d6b2647d-1f40-42b5-8373-0d75442ad1c1",
   "metadata": {},
   "outputs": [],
   "source": [
    "def space_check(board,position):\n",
    "    return board[position] == ' '"
   ]
  },
  {
   "cell_type": "code",
   "execution_count": 24,
   "id": "67949509-d86c-4966-a6bd-e36753be9920",
   "metadata": {},
   "outputs": [],
   "source": [
    "def full_board_check(board):\n",
    "    for i in range(1,10):\n",
    "        if space_check(board,i):\n",
    "            return False\n",
    "    return True"
   ]
  },
  {
   "cell_type": "code",
   "execution_count": 26,
   "id": "5f81f242-a360-4869-bac5-8d247fcc9c64",
   "metadata": {},
   "outputs": [],
   "source": [
    "def player_choice(board):\n",
    "    position = 0\n",
    "    \n",
    "    while position not in [1,2,3,4,5,6,7,8,9] or not space_check(board,position):\n",
    "        position = int(input('choose a position: (1-9)'))\n",
    "    return position"
   ]
  },
  {
   "cell_type": "code",
   "execution_count": 28,
   "id": "8e36ceca-4119-42d3-aa6c-9ae927de7f73",
   "metadata": {},
   "outputs": [],
   "source": [
    "def replay():\n",
    "    choise = input(\"Play again ?Enter Yes or No\")\n",
    "    return choise == 'Yes'"
   ]
  },
  {
   "cell_type": "code",
   "execution_count": 34,
   "id": "cb30903e-df7b-4811-94f2-9e58c9bf38ed",
   "metadata": {},
   "outputs": [
    {
     "name": "stdout",
     "output_type": "stream",
     "text": [
      "   |   |\n",
      " X | X | O\n",
      "   |   |\n",
      "-----------\n",
      "   |   |\n",
      " O | X | O\n",
      "   |   |\n",
      "-----------\n",
      "   |   |\n",
      "   | X |  \n",
      "   |   |\n",
      "Player 1 Has Won\n"
     ]
    },
    {
     "name": "stdin",
     "output_type": "stream",
     "text": [
      "Play again ?Enter Yes or No No\n"
     ]
    }
   ],
   "source": [
    "print(\"Welcome to Tic Tac Toe\")\n",
    "\n",
    "while True:\n",
    "\n",
    "    the_board = [' ']*10\n",
    "    player1_marker,player2_marker=player_input()\n",
    "\n",
    "    turn  = choose_player()\n",
    "    print(turn + ' Will go first')\n",
    "\n",
    "    play_game = input('Ready to play? Y or N')\n",
    "\n",
    "    if play_game == 'Y':\n",
    "\n",
    "        game_on = True\n",
    "    else:\n",
    "        game_on = False\n",
    "\n",
    "\n",
    "    while game_on:\n",
    "\n",
    "        if turn == 'Player 1':\n",
    "            \n",
    "            display_board(the_board)\n",
    "            position = player_choice(the_board)   \n",
    "            place_marker(the_board,player1_marker,position)\n",
    "            \n",
    "            if win_check(the_board,player1_marker):\n",
    "                display_board(the_board)\n",
    "                print(\"Player 1 Has Won\")\n",
    "                game_on = False\n",
    "            else:\n",
    "                \n",
    "                if full_board_check(the_board):\n",
    "                    display_board(the_board)\n",
    "                    print(\"The Game was Tie\")\n",
    "                    game_on = False\n",
    "                else:\n",
    "                    turn = 'Player 2'\n",
    "        else:\n",
    "            \n",
    "            display_board (the_board)\n",
    "            position = player_choice(the_board)\n",
    "            place_marker(the_board,player2_marker,position)\n",
    "            \n",
    "            if win_check(the_board,player2_marker):\n",
    "                display_board(the_board)\n",
    "                print(\"Player 2 Has Won\")\n",
    "                \n",
    "                game_on = False\n",
    "            else:\n",
    "                if full_board_check(the_board):\n",
    "                    \n",
    "                    display_board(the_board)\n",
    "                    \n",
    "                    print(\"The Game was Tie\")\n",
    "                    \n",
    "                    game_on = False\n",
    "                else:\n",
    "                    turn = 'Player 1'\n",
    "    if not replay():\n",
    "        break"
   ]
  }
 ],
 "metadata": {
  "kernelspec": {
   "display_name": "Python 3 (ipykernel)",
   "language": "python",
   "name": "python3"
  },
  "language_info": {
   "codemirror_mode": {
    "name": "ipython",
    "version": 3
   },
   "file_extension": ".py",
   "mimetype": "text/x-python",
   "name": "python",
   "nbconvert_exporter": "python",
   "pygments_lexer": "ipython3",
   "version": "3.11.7"
  }
 },
 "nbformat": 4,
 "nbformat_minor": 5
}
